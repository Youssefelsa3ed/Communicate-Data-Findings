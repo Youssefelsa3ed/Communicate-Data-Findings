{
 "cells": [
  {
   "cell_type": "markdown",
   "metadata": {
    "slideshow": {
     "slide_type": "slide"
    }
   },
   "source": [
    "# Visualization of 2019 Bay Wheels Ride\n",
    "## by Youssef Farahat"
   ]
  },
  {
   "cell_type": "markdown",
   "metadata": {
    "slideshow": {
     "slide_type": "slide"
    }
   },
   "source": [
    "## Investigation Overview\n",
    "\n",
    "> In this investigation, I wanted to look at to the user behaviour characteristics, I focused on weekday, user age, user gender, trip duration, and user type to analyze and understand the usage of bike When, Who, How?\n",
    "\n",
    "\n",
    "## Dataset Overview\n",
    "\n",
    "> The forgobike trip data are nearly 180,000 rides that happend in Feburary 2019"
   ]
  },
  {
   "cell_type": "code",
   "execution_count": 16,
   "metadata": {
    "slideshow": {
     "slide_type": "skip"
    }
   },
   "outputs": [],
   "source": [
    "# import all packages and set plots to be embedded inline\n",
    "import numpy as np\n",
    "import pandas as pd\n",
    "import matplotlib.pyplot as plt\n",
    "import seaborn as sb\n",
    "\n",
    "%matplotlib inline\n",
    "\n",
    "# suppress warnings from final output\n",
    "import warnings\n",
    "warnings.simplefilter(\"ignore\")"
   ]
  },
  {
   "cell_type": "code",
   "execution_count": 17,
   "metadata": {
    "slideshow": {
     "slide_type": "skip"
    }
   },
   "outputs": [
    {
     "data": {
      "text/html": [
       "<div>\n",
       "<style scoped>\n",
       "    .dataframe tbody tr th:only-of-type {\n",
       "        vertical-align: middle;\n",
       "    }\n",
       "\n",
       "    .dataframe tbody tr th {\n",
       "        vertical-align: top;\n",
       "    }\n",
       "\n",
       "    .dataframe thead th {\n",
       "        text-align: right;\n",
       "    }\n",
       "</style>\n",
       "<table border=\"1\" class=\"dataframe\">\n",
       "  <thead>\n",
       "    <tr style=\"text-align: right;\">\n",
       "      <th></th>\n",
       "      <th>duration_minute</th>\n",
       "      <th>start_time</th>\n",
       "      <th>end_time</th>\n",
       "      <th>start_station_id</th>\n",
       "      <th>start_station_name</th>\n",
       "      <th>start_station_latitude</th>\n",
       "      <th>start_station_longitude</th>\n",
       "      <th>end_station_id</th>\n",
       "      <th>end_station_name</th>\n",
       "      <th>end_station_latitude</th>\n",
       "      <th>end_station_longitude</th>\n",
       "      <th>bike_id</th>\n",
       "      <th>user_type</th>\n",
       "      <th>member_age</th>\n",
       "      <th>member_gender</th>\n",
       "      <th>bike_share_for_all_trip</th>\n",
       "      <th>start_date</th>\n",
       "      <th>weekday</th>\n",
       "      <th>is_weekend</th>\n",
       "    </tr>\n",
       "  </thead>\n",
       "  <tbody>\n",
       "    <tr>\n",
       "      <th>0</th>\n",
       "      <td>29.100000</td>\n",
       "      <td>2019-02-18 09:03:06.345</td>\n",
       "      <td>2019-02-18 09:32:13.098</td>\n",
       "      <td>345.0</td>\n",
       "      <td>Hubbell St at 16th St</td>\n",
       "      <td>37.766483</td>\n",
       "      <td>-122.398279</td>\n",
       "      <td>345.0</td>\n",
       "      <td>Hubbell St at 16th St</td>\n",
       "      <td>37.766483</td>\n",
       "      <td>-122.398279</td>\n",
       "      <td>6222</td>\n",
       "      <td>Customer</td>\n",
       "      <td>54.0</td>\n",
       "      <td>Male</td>\n",
       "      <td>No</td>\n",
       "      <td>18</td>\n",
       "      <td>Monday</td>\n",
       "      <td>Weekday</td>\n",
       "    </tr>\n",
       "    <tr>\n",
       "      <th>1</th>\n",
       "      <td>3.450000</td>\n",
       "      <td>2019-02-18 18:36:27.321</td>\n",
       "      <td>2019-02-18 18:39:54.322</td>\n",
       "      <td>315.0</td>\n",
       "      <td>Market St at 45th St</td>\n",
       "      <td>37.834174</td>\n",
       "      <td>-122.272968</td>\n",
       "      <td>152.0</td>\n",
       "      <td>47th St at San Pablo Ave</td>\n",
       "      <td>37.835632</td>\n",
       "      <td>-122.281051</td>\n",
       "      <td>4548</td>\n",
       "      <td>Subscriber</td>\n",
       "      <td>21.0</td>\n",
       "      <td>Male</td>\n",
       "      <td>Yes</td>\n",
       "      <td>18</td>\n",
       "      <td>Monday</td>\n",
       "      <td>Weekday</td>\n",
       "    </tr>\n",
       "    <tr>\n",
       "      <th>2</th>\n",
       "      <td>3.300000</td>\n",
       "      <td>2019-02-18 18:37:02.491</td>\n",
       "      <td>2019-02-18 18:40:21.442</td>\n",
       "      <td>97.0</td>\n",
       "      <td>14th St at Mission St</td>\n",
       "      <td>37.768265</td>\n",
       "      <td>-122.420110</td>\n",
       "      <td>99.0</td>\n",
       "      <td>Folsom St at 15th St</td>\n",
       "      <td>37.767037</td>\n",
       "      <td>-122.415442</td>\n",
       "      <td>1882</td>\n",
       "      <td>Subscriber</td>\n",
       "      <td>28.0</td>\n",
       "      <td>Female</td>\n",
       "      <td>No</td>\n",
       "      <td>18</td>\n",
       "      <td>Monday</td>\n",
       "      <td>Weekday</td>\n",
       "    </tr>\n",
       "    <tr>\n",
       "      <th>3</th>\n",
       "      <td>14.066667</td>\n",
       "      <td>2019-02-18 18:26:21.963</td>\n",
       "      <td>2019-02-18 18:40:26.005</td>\n",
       "      <td>30.0</td>\n",
       "      <td>San Francisco Caltrain (Townsend St at 4th St)</td>\n",
       "      <td>37.776598</td>\n",
       "      <td>-122.395282</td>\n",
       "      <td>369.0</td>\n",
       "      <td>Hyde St at Post St</td>\n",
       "      <td>37.787349</td>\n",
       "      <td>-122.416651</td>\n",
       "      <td>4742</td>\n",
       "      <td>Subscriber</td>\n",
       "      <td>31.0</td>\n",
       "      <td>Male</td>\n",
       "      <td>No</td>\n",
       "      <td>18</td>\n",
       "      <td>Monday</td>\n",
       "      <td>Weekday</td>\n",
       "    </tr>\n",
       "    <tr>\n",
       "      <th>4</th>\n",
       "      <td>6.300000</td>\n",
       "      <td>2019-02-18 18:34:20.960</td>\n",
       "      <td>2019-02-18 18:40:39.858</td>\n",
       "      <td>144.0</td>\n",
       "      <td>Precita Park</td>\n",
       "      <td>37.747300</td>\n",
       "      <td>-122.411403</td>\n",
       "      <td>129.0</td>\n",
       "      <td>Harrison St at 20th St</td>\n",
       "      <td>37.758862</td>\n",
       "      <td>-122.412544</td>\n",
       "      <td>5462</td>\n",
       "      <td>Subscriber</td>\n",
       "      <td>34.0</td>\n",
       "      <td>Male</td>\n",
       "      <td>No</td>\n",
       "      <td>18</td>\n",
       "      <td>Monday</td>\n",
       "      <td>Weekday</td>\n",
       "    </tr>\n",
       "  </tbody>\n",
       "</table>\n",
       "</div>"
      ],
      "text/plain": [
       "   duration_minute               start_time                 end_time  \\\n",
       "0        29.100000  2019-02-18 09:03:06.345  2019-02-18 09:32:13.098   \n",
       "1         3.450000  2019-02-18 18:36:27.321  2019-02-18 18:39:54.322   \n",
       "2         3.300000  2019-02-18 18:37:02.491  2019-02-18 18:40:21.442   \n",
       "3        14.066667  2019-02-18 18:26:21.963  2019-02-18 18:40:26.005   \n",
       "4         6.300000  2019-02-18 18:34:20.960  2019-02-18 18:40:39.858   \n",
       "\n",
       "   start_station_id                              start_station_name  \\\n",
       "0             345.0                           Hubbell St at 16th St   \n",
       "1             315.0                            Market St at 45th St   \n",
       "2              97.0                           14th St at Mission St   \n",
       "3              30.0  San Francisco Caltrain (Townsend St at 4th St)   \n",
       "4             144.0                                    Precita Park   \n",
       "\n",
       "   start_station_latitude  start_station_longitude  end_station_id  \\\n",
       "0               37.766483              -122.398279           345.0   \n",
       "1               37.834174              -122.272968           152.0   \n",
       "2               37.768265              -122.420110            99.0   \n",
       "3               37.776598              -122.395282           369.0   \n",
       "4               37.747300              -122.411403           129.0   \n",
       "\n",
       "           end_station_name  end_station_latitude  end_station_longitude  \\\n",
       "0     Hubbell St at 16th St             37.766483            -122.398279   \n",
       "1  47th St at San Pablo Ave             37.835632            -122.281051   \n",
       "2      Folsom St at 15th St             37.767037            -122.415442   \n",
       "3        Hyde St at Post St             37.787349            -122.416651   \n",
       "4    Harrison St at 20th St             37.758862            -122.412544   \n",
       "\n",
       "   bike_id   user_type  member_age member_gender bike_share_for_all_trip  \\\n",
       "0     6222    Customer        54.0          Male                      No   \n",
       "1     4548  Subscriber        21.0          Male                     Yes   \n",
       "2     1882  Subscriber        28.0        Female                      No   \n",
       "3     4742  Subscriber        31.0          Male                      No   \n",
       "4     5462  Subscriber        34.0          Male                      No   \n",
       "\n",
       "   start_date weekday is_weekend  \n",
       "0          18  Monday    Weekday  \n",
       "1          18  Monday    Weekday  \n",
       "2          18  Monday    Weekday  \n",
       "3          18  Monday    Weekday  \n",
       "4          18  Monday    Weekday  "
      ]
     },
     "execution_count": 17,
     "metadata": {},
     "output_type": "execute_result"
    }
   ],
   "source": [
    "# load in the dataset into a pandas dataframe\n",
    "df = pd.read_csv('cleaned_data.csv')\n",
    "df.head()"
   ]
  },
  {
   "cell_type": "markdown",
   "metadata": {
    "slideshow": {
     "slide_type": "notes"
    }
   },
   "source": [
    "> Note that the above cells have been set as \"Skip\"-type slides. That means\n",
    "that when the notebook is rendered as http slides, those cells won't show up."
   ]
  },
  {
   "cell_type": "markdown",
   "metadata": {
    "slideshow": {
     "slide_type": "slide"
    }
   },
   "source": [
    "## (Visualization 1)\n",
    "\n",
    "> The average trip duration was around 12 minutes yet there are trips above 100 which led to making the plot unreadable.  \n",
    "\n",
    "> So we should do data transformation to make it easier to read and interpret the data. Below are the plots before/after data transformation."
   ]
  },
  {
   "cell_type": "code",
   "execution_count": 18,
   "metadata": {
    "slideshow": {
     "slide_type": "subslide"
    }
   },
   "outputs": [
    {
     "data": {
      "image/png": "[encoded data removed]",
      "text/plain": [
       "<Figure size 432x288 with 1 Axes>"
      ]
     },
     "metadata": {
      "needs_background": "light"
     },
     "output_type": "display_data"
    }
   ],
   "source": [
    "plt.hist(data = df, x = 'duration_minute');\n",
    "plt.xlim(0, 100);\n",
    "plt.xlabel(\"Bike Ride Duration (min)\");\n",
    "plt.ylabel(\"Count\");\n",
    "plt.title(\"Trip Duration (min) Before Transformation\");"
   ]
  },
  {
   "cell_type": "code",
   "execution_count": 19,
   "metadata": {
    "slideshow": {
     "slide_type": "subslide"
    }
   },
   "outputs": [
    {
     "data": {
      "image/png": "[encoded data removed]",
      "text/plain": [
       "<Figure size 576x360 with 1 Axes>"
      ]
     },
     "metadata": {
      "needs_background": "light"
     },
     "output_type": "display_data"
    }
   ],
   "source": [
    "bins = 10 ** np.arange(0, np.log10(df['duration_minute'].max())+0.1, 0.1)\n",
    "\n",
    "plt.figure(figsize=[8, 5]);\n",
    "plt.hist(data = df, x = 'duration_minute', bins = bins);\n",
    "plt.xscale('log');\n",
    "plt.xticks([1, 2, 5, 10, 20, 50, 100], [1, 2, 5, 10, 20, 50, 100]);\n",
    "plt.xlabel(\"Bike Ride Duration (min)\");\n",
    "plt.ylabel(\"Count\");\n",
    "plt.title(\"Trip Duration (min) After Transformation\");"
   ]
  },
  {
   "cell_type": "markdown",
   "metadata": {
    "collapsed": true,
    "slideshow": {
     "slide_type": "slide"
    }
   },
   "source": [
    "## (Visualization 2)\n",
    "\n",
    "> Based on our data we have three gender male, female and other. In the next visualization I will show the number of bike rides for each day based on gender"
   ]
  },
  {
   "cell_type": "code",
   "execution_count": 20,
   "metadata": {
    "slideshow": {
     "slide_type": "subslide"
    }
   },
   "outputs": [
    {
     "data": {
      "image/png": "[encoded data removed]",
      "text/plain": [
       "<Figure size 1440x720 with 2 Axes>"
      ]
     },
     "metadata": {
      "needs_background": "light"
     },
     "output_type": "display_data"
    }
   ],
   "source": [
    "plt.figure(figsize = [20, 10]);\n",
    "\n",
    "ax = plt.subplot(2, 2, 1);\n",
    "sb.countplot(data = df, x = 'weekday', hue = 'member_gender', palette = 'GnBu');\n",
    "ax.legend(loc = 1, ncol = 2);\n",
    "ax.set_xlabel('Day of week')\n",
    "plt.title('Number of trips per day for all genders')\n",
    "\n",
    "ax = plt.subplot(2, 2, 2);\n",
    "sb.countplot(data = df, x = 'is_weekend', hue = 'member_gender', palette = 'GnBu');\n",
    "ax.legend(ncol = 2);\n",
    "ax.set_xlabel('Day Type')\n",
    "plt.title('Number of trips in weekdays/weekends for all genders');\n"
   ]
  },
  {
   "cell_type": "markdown",
   "metadata": {
    "slideshow": {
     "slide_type": "slide"
    }
   },
   "source": [
    "## (Visualization 3)\n",
    "\n",
    "Based on our data we have two user types. Subscriber, Customer. In the next visualization I will show the number of bike rides for each day based on type"
   ]
  },
  {
   "cell_type": "code",
   "execution_count": 22,
   "metadata": {
    "slideshow": {
     "slide_type": "subslide"
    }
   },
   "outputs": [
    {
     "data": {
      "image/png": "[encoded data removed]",
      "text/plain": [
       "<Figure size 1440x720 with 2 Axes>"
      ]
     },
     "metadata": {
      "needs_background": "light"
     },
     "output_type": "display_data"
    }
   ],
   "source": [
    "plt.figure(figsize = [20, 10]);\n",
    "\n",
    "ax = plt.subplot(2, 2, 1)\n",
    "sb.countplot(data = df, x = 'weekday', hue = 'user_type', palette = 'cividis')\n",
    "ax.legend(loc = 1, ncol = 2)\n",
    "ax.set_xlabel('Day of week')\n",
    "plt.title('Number of trips pre day for user types');\n",
    "\n",
    "ax = plt.subplot(2, 2, 2)\n",
    "sb.countplot(data = df, x = 'is_weekend', hue = 'user_type', palette = 'cividis');\n",
    "ax.legend(loc = 1, ncol = 2)\n",
    "ax.set_xlabel('Day Type')\n",
    "plt.title('Number of trips in weekdays/weekends for user types');"
   ]
  },
  {
   "cell_type": "markdown",
   "metadata": {
    "slideshow": {
     "slide_type": "notes"
    }
   },
   "source": [
    "> Once you're ready to finish your presentation, check your output by using\n",
    "nbconvert to export the notebook and set up a server for the slides. From the\n",
    "terminal or command line, use the following expression:\n",
    "> > `jupyter nbconvert <file_name>.ipynb --to slides --post serve --template output_toggle`\n",
    "\n",
    "> This should open a tab in your web browser where you can scroll through your\n",
    "presentation. Sub-slides can be accessed by pressing 'down' when viewing its parent\n",
    "slide. Make sure you remove all of the quote-formatted guide notes like this one\n",
    "before you finish your presentation!"
   ]
  }
 ],
 "metadata": {
  "celltoolbar": "Slideshow",
  "kernelspec": {
   "display_name": "Python 3",
   "language": "python",
   "name": "python3"
  },
  "language_info": {
   "codemirror_mode": {
    "name": "ipython",
    "version": 3
   },
   "file_extension": ".py",
   "mimetype": "text/x-python",
   "name": "python",
   "nbconvert_exporter": "python",
   "pygments_lexer": "ipython3",
   "version": "3.9.1"
  }
 },
 "nbformat": 4,
 "nbformat_minor": 2
}
